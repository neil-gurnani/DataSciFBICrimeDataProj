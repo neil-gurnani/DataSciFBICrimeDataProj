{
 "cells": [
  {
   "cell_type": "code",
   "execution_count": 9,
   "metadata": {},
   "outputs": [
    {
     "name": "stdout",
     "output_type": "stream",
     "text": [
      "{'South': 5018, 'West': 2605, 'Northeast': 1674, 'Midwest': 3304}\n",
      "{'South': 331011, 'West': 259401, 'Northeast': 156891, 'Midwest': 211854}\n",
      "{'South': 2080097, 'West': 1781665, 'Northeast': 760200, 'Midwest': 1226462}\n"
     ]
    }
   ],
   "source": [
    "# Final Project - Neil Gurnani\n",
    "\n",
    "# import neccesary modules\n",
    "import json\n",
    "import pandas as pd\n",
    "\n",
    "# Open the data file and load the json data into the variable crime_list\n",
    "file = open('FBI_CrimeData_2016.json', 'r')\n",
    "crime_list_str = file.read()\n",
    "crime_list = json.loads(crime_list_str)\n",
    "\n",
    "# create 3 dictionaries\n",
    "murder_by_key = {}\n",
    "violent_by_key = {}\n",
    "nonviolent_by_key = {}\n",
    "\n",
    "# 3 functions for crime dictionaries\n",
    "def accume_crime(key, crime, crime_list):\n",
    "    murder_by_key = {}\n",
    "    for i in crime_list:\n",
    "        if i[key] not in murder_by_key:\n",
    "            murder_by_key[i[key]] = int(i['Murder'])\n",
    "        else:\n",
    "            murder_by_key[i[key]] += int(i['Murder'])\n",
    "    return murder_by_key\n",
    "\n",
    "def accume_violent_crime(key, crime, crime_list):\n",
    "    violent_by_key = {}\n",
    "    for i in crime_list:\n",
    "        if i[key] not in violent_by_key:\n",
    "            violent_by_key[i[key]] = int(i['Murder']) + int(i['Rape']) + int(i['Robbery']) + int(i['Assault'])\n",
    "        else:\n",
    "            violent_by_key[i[key]] += int(i['Murder']) + int(i['Rape']) + int(i['Robbery']) + int(i['Assault'])\n",
    "    return violent_by_key\n",
    "\n",
    "def accume_nonviolent_crime(key, crime, crime_list):\n",
    "    nonviolent_by_key = {}\n",
    "    for i in crime_list:\n",
    "        if i[key] not in nonviolent_by_key:\n",
    "            nonviolent_by_key[i[key]] = int(i['Burglary']) + int(i['Theft']) + int (i['Vehicle_Theft'])\n",
    "        else:\n",
    "            nonviolent_by_key[i[key]] += int(i['Burglary']) + int(i['Theft']) + int(i['Vehicle_Theft'])\n",
    "    return nonviolent_by_key\n",
    "\n",
    "# call the 3 functions to generate dictionaries\n",
    "murder_by_region = accume_crime('Region', 'Murder', crime_list)\n",
    "violent_by_region = accume_violent_crime('Region', 'Murder' 'Rape' 'Robbery' 'Assault', crime_list )\n",
    "nonviolent_by_region = accume_nonviolent_crime('Region', 'Burglary' 'Theft' 'Vehicle_Theft', crime_list)\n",
    "        \n",
    "# print out 3 important dictionaries \n",
    "print(murder_by_region)\n",
    "print(violent_by_region)\n",
    "print(nonviolent_by_region)\n",
    "        "
   ]
  },
  {
   "cell_type": "code",
   "execution_count": 4,
   "metadata": {},
   "outputs": [
    {
     "name": "stdout",
     "output_type": "stream",
     "text": [
      "Murders by Region\n",
      "   Incidents     Region\n",
      "0       5018      South\n",
      "1       2605       West\n",
      "2       1674  Northeast\n",
      "3       3304    Midwest\n"
     ]
    }
   ],
   "source": [
    "# Now comes the graphing\n",
    "# 3 functions for creating 3 distinct bar charts \n",
    "\n",
    "# Print both the data frame and bar chart for Murders \n",
    "\n",
    "def murderBarChart(murder_by_region):\n",
    "    numbers = [0,1,2,3]\n",
    "    region = list(murder_by_region.keys())\n",
    "    murders = list(murder_by_region.values())\n",
    "    pdDict = {'Incidents':pd.Series(murders, index = numbers), 'Region':pd.Series(region, index = numbers)}\n",
    "    df = pd.DataFrame(pdDict)\n",
    "    print('Murders by Region')\n",
    "    print(df)\n",
    "    df.plot.bar(x = 'Region', y = 'Incidents', legend = False)\n",
    "\n",
    "\n",
    "murderBarChart(murder_by_region)"
   ]
  },
  {
   "cell_type": "code",
   "execution_count": 5,
   "metadata": {},
   "outputs": [
    {
     "name": "stdout",
     "output_type": "stream",
     "text": [
      "Violent Crimes by Region\n",
      "   Incidents     Region\n",
      "0     331011      South\n",
      "1     259401       West\n",
      "2     156891  Northeast\n",
      "3     211854    Midwest\n"
     ]
    },
    {
     "data": {
      "image/png": "[encoded data removed]",
      "text/plain": [
       "<Figure size 432x288 with 1 Axes>"
      ]
     },
     "metadata": {
      "needs_background": "light"
     },
     "output_type": "display_data"
    }
   ],
   "source": [
    "# Print both the data frame and bar chart for Violent Crimes\n",
    "\n",
    "def violentBarChart(violent_by_region):\n",
    "    numbers = [0,1,2,3]\n",
    "    region = list(violent_by_region.keys())\n",
    "    violents = list(violent_by_region.values())\n",
    "    pdDict = {'Incidents':pd.Series(violents, index = numbers), 'Region':pd.Series(region, index = numbers)}\n",
    "    df = pd.DataFrame(pdDict)\n",
    "    print('Violent Crimes by Region')\n",
    "    print(df)\n",
    "    df.plot.bar(x = 'Region', y = 'Incidents', legend = False)\n",
    "\n",
    "\n",
    "violentBarChart(violent_by_region)"
   ]
  },
  {
   "cell_type": "code",
   "execution_count": 6,
   "metadata": {},
   "outputs": [
    {
     "name": "stdout",
     "output_type": "stream",
     "text": [
      "Non-violent Crimes by Region\n",
      "   Incidents     Region\n",
      "0    2080097      South\n",
      "1    1781665       West\n",
      "2     760200  Northeast\n",
      "3    1226462    Midwest\n"
     ]
    },
    {
     "data": {
      "image/png": "[encoded data removed]",
      "text/plain": [
       "<Figure size 432x288 with 1 Axes>"
      ]
     },
     "metadata": {
      "needs_background": "light"
     },
     "output_type": "display_data"
    }
   ],
   "source": [
    "# Print both the data frame and bar chart for Nonviolent Crimes\n",
    "\n",
    "def nonviolentBarChart(nonviolent_by_region):\n",
    "    numbers = [0,1,2,3]\n",
    "    region = list(nonviolent_by_region.keys())\n",
    "    nonviolents = list(nonviolent_by_region.values())\n",
    "    pdDict = {'Incidents':pd.Series(nonviolents, index = numbers), 'Region':pd.Series(region, index = numbers)}\n",
    "    df = pd.DataFrame(pdDict)\n",
    "    print('Non-violent Crimes by Region')\n",
    "    print(df)\n",
    "    df.plot.bar(x = 'Region', y = 'Incidents', legend = False)\n",
    "\n",
    "    \n",
    "nonviolentBarChart(nonviolent_by_region)\n",
    "    "
   ]
  },
  {
   "cell_type": "code",
   "execution_count": 7,
   "metadata": {},
   "outputs": [
    {
     "name": "stdout",
     "output_type": "stream",
     "text": [
      "['ALABAMA', 'ALASKA', 'ARIZONA', 'ARKANSAS', 'CALIFORNIA', 'COLORADO', 'CONNECTICUT', 'DELAWARE', 'DISTRICT OF COLUMBIA', 'FLORIDA', 'GEORGIA', 'HAWAII', 'IDAHO', 'ILLINOIS', 'INDIANA', 'IOWA', 'KANSAS', 'KENTUCKY', 'LOUISIANA', 'MAINE', 'MARYLAND', 'MASSACHUSETTS', 'MICHIGAN', 'MINNESOTA', 'MISSISSIPPI', 'MISSOURI', 'MONTANA', 'NEBRASKA', 'NEVADA', 'NEW HAMPSHIRE', 'NEW JERSEY', 'NEW MEXICO', 'NEW YORK', 'NORTH CAROLINA', 'NORTH DAKOTA', 'OHIO', 'OKLAHOMA', 'OREGON', 'PENNSYLVANIA', 'RHODE ISLAND', 'SOUTH CAROLINA', 'SOUTH DAKOTA', 'TENNESSEE', 'TEXAS', 'UTAH', 'VERMONT', 'VIRGINIA', 'WASHINGTON', 'WEST VIRGINIA', 'WISCONSIN', 'WYOMING']\n",
      "51\n",
      "The National Violent Crime Mean (average) is:  18807.0\n"
     ]
    }
   ],
   "source": [
    "# next, time to calculate the national violent crime mean (average)\n",
    "totalViolentCrimes = 0\n",
    "statesList = []\n",
    "numStates = 0\n",
    "\n",
    "for i in violent_by_region.values():\n",
    "    totalViolentCrimes = totalViolentCrimes + i\n",
    "# print(totalViolentCrimes)\n",
    "# now calculate national crime mean (average)\n",
    "for i in crime_list:\n",
    "    if i['State'] not in statesList:\n",
    "        statesList.append(i['State'])\n",
    "print(statesList)\n",
    "print(len(statesList))\n",
    "\n",
    "# assign the length of the list of states to the variable numstates\n",
    "numStates = len(statesList)\n",
    "        \n",
    "avgViolentCrimeRate = totalViolentCrimes / numStates\n",
    "print(\"The National Violent Crime Mean (average) is: \", avgViolentCrimeRate)\n",
    "    "
   ]
  },
  {
   "cell_type": "code",
   "execution_count": 81,
   "metadata": {},
   "outputs": [
    {
     "name": "stdout",
     "output_type": "stream",
     "text": [
      "National Average Violent Crime Rate:  18807\n",
      " \n",
      "                      Crimes  Distance from Mean\n",
      "State                                           \n",
      "ALABAMA                15350               -3457\n",
      "ALASKA                  4697              -14110\n",
      "ARIZONA                23856                5049\n",
      "ARKANSAS               12048               -6759\n",
      "CALIFORNIA            145205              126398\n",
      "COLORADO               15533               -3274\n",
      "CONNECTICUT             7754              -11053\n",
      "DELAWARE                2359              -16448\n",
      "DISTRICT OF COLUMBIA    7711              -11096\n",
      "FLORIDA                50540               31733\n",
      "GEORGIA                18496                -311\n",
      "HAWAII                  3331              -15476\n",
      "IDAHO                   2676              -16131\n",
      "ILLINOIS               50968               32161\n",
      "INDIANA                21325                2518\n",
      "IOWA                    7533              -11274\n",
      "KANSAS                  7982              -10825\n",
      "KENTUCKY                8342              -10465\n",
      "LOUISIANA              16444               -2363\n",
      "MAINE                   1254              -17553\n",
      "MARYLAND               14175               -4632\n",
      "MASSACHUSETTS          24155                5348\n",
      "MICHIGAN               35790               16983\n",
      "MINNESOTA              11618               -7189\n",
      "MISSISSIPPI             3256              -15551\n",
      "MISSOURI               25175                6368\n",
      "MONTANA                 1952              -16855\n",
      "NEBRASKA                4401              -14406\n",
      "NEVADA                 18823                  16\n",
      "NEW HAMPSHIRE           2413              -16394\n",
      "NEW JERSEY             19098                 291\n",
      "NEW MEXICO              9480               -9327\n",
      "NEW YORK               66581               47774\n",
      "NORTH CAROLINA         16846               -1961\n",
      "NORTH DAKOTA            1393              -17414\n",
      "OHIO                   28235                9428\n",
      "OKLAHOMA               15348               -3459\n",
      "OREGON                  7785              -11022\n",
      "PENNSYLVANIA           32877               14070\n",
      "RHODE ISLAND            2423              -16384\n",
      "SOUTH CAROLINA          9473               -9334\n",
      "SOUTH DAKOTA            2169              -16638\n",
      "TENNESSEE              33433               14626\n",
      "TEXAS                  97872               79065\n",
      "UTAH                    5679              -13128\n",
      "VERMONT                  336              -18471\n",
      "VIRGINIA                9318               -9489\n",
      "WASHINGTON             16913               -1894\n",
      "WEST VIRGINIA           2701              -16106\n",
      "WISCONSIN              15265               -3542\n",
      "WYOMING                  770              -18037\n"
     ]
    }
   ],
   "source": [
    "# Finally, let us create the summary of data for the states\n",
    "print(\"National Average Violent Crime Rate: \", int(avgViolentCrimeRate))\n",
    "\n",
    "violent_by_state = {}\n",
    "\n",
    "# now, create summary by calling violent crime function created earlier\n",
    "violent_by_state = accume_violent_crime('State', 'Murder' 'Rape' 'Robbery' 'Assault' , crime_list)\n",
    "\n",
    "#print(violent_by_state)\n",
    "\n",
    "# iterate through the dict to produce the tabular list showing the crimes by state and their respective distance from means\n",
    "\n",
    "distMean = 0\n",
    "\n",
    "state = list(violent_by_state.keys())\n",
    "crimes = list(violent_by_state.values())\n",
    "\n",
    "meanDists = []\n",
    "\n",
    "#print(avgViolentCrimeRate)\n",
    "\n",
    "for i in violent_by_state.values():\n",
    "    distMean = int(i) - int(avgViolentCrimeRate)\n",
    "    #print(distMean)\n",
    "    meanDists.append(distMean)\n",
    "#print(meanDists)\n",
    "\n",
    "    \n",
    "pdDict = {'Crimes':pd.Series(crimes, index = state), 'Distance from Mean':pd.Series(meanDists, index = state),}\n",
    "\n",
    "\n",
    "\n",
    "df = pd.DataFrame(pdDict)\n",
    "df.index.rename('State', inplace=True)\n",
    "\n",
    "\n",
    "# Could not figure out how to align the column headings\n",
    "\n",
    "print(' ')\n",
    "print(df)\n",
    "\n"
   ]
  },
  {
   "cell_type": "code",
   "execution_count": null,
   "metadata": {},
   "outputs": [],
   "source": []
  },
  {
   "cell_type": "code",
   "execution_count": null,
   "metadata": {},
   "outputs": [],
   "source": []
  }
 ],
 "metadata": {
  "kernelspec": {
   "display_name": "Python 3",
   "language": "python",
   "name": "python3"
  },
  "language_info": {
   "codemirror_mode": {
    "name": "ipython",
    "version": 3
   },
   "file_extension": ".py",
   "mimetype": "text/x-python",
   "name": "python",
   "nbconvert_exporter": "python",
   "pygments_lexer": "ipython3",
   "version": "3.6.5"
  }
 },
 "nbformat": 4,
 "nbformat_minor": 2
}
